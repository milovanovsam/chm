{
 "cells": [
  {
   "cell_type": "code",
   "execution_count": null,
   "metadata": {},
   "outputs": [],
   "source": [
    "import numpy as np\n",
    "%matplotlib notebook\n",
    "import matplotlib.pyplot as plt"
   ]
  },
  {
   "cell_type": "markdown",
   "metadata": {},
   "source": [
    "Обычный себе осциллятор, x''=-x. Начинает с (x=1, v=0)"
   ]
  },
  {
   "cell_type": "code",
   "execution_count": null,
   "metadata": {},
   "outputs": [],
   "source": [
    "def f(x):\n",
    "    return -x"
   ]
  },
  {
   "cell_type": "code",
   "execution_count": null,
   "metadata": {},
   "outputs": [],
   "source": [
    "# Метод Эйлера\n",
    "def euler(x0, v0, ts):\n",
    "    xs, vs = [x0], [v0]\n",
    "\n",
    "    for i in range(len(ts)-1):\n",
    "        dt = ts[i+1] - ts[i]\n",
    "        x1, v1 = xs[-1]+vs[-1]*dt, vs[-1]+f(xs[-1])*dt\n",
    "        xs.append(x1)\n",
    "        vs.append(v1)\n",
    "    \n",
    "    return xs, vs\n",
    "\n",
    "# Метод Верле. Использует v0 только на первом шаге, дальше сам\n",
    "def verlet(x0, v0, ts):\n",
    "    xs, vs = [x0], [v0]\n",
    "    dt = ts[1] - ts[0]\n",
    "    \n",
    "    x1 = x0 + v0*dt + f(x0)*dt**2/2\n",
    "    xs.append(x1)\n",
    "    \n",
    "    for i in range(1, len(ts)-1):\n",
    "        dt = ts[i+1] - ts[i]\n",
    "        x1 = 2*xs[-1] - xs[-2] + f(xs[-1])*dt**2\n",
    "        xs.append(x1)\n",
    "\n",
    "    for i in range(1, len(ts)-1):\n",
    "        dt = ts[i+1] - ts[i]\n",
    "        vs.append((xs[i+1]-xs[i-1])/2/dt)\n",
    "\n",
    "    vs.append((xs[-1]-xs[-2])/dt)\n",
    "  \n",
    "    return xs, vs\n",
    "\n",
    "# Метод Рунге-Кутты 4-го порядка\n",
    "def rk4(x0, v0, ts):\n",
    "    xs, vs = [x0], [v0]\n",
    "\n",
    "    for i in range(len(ts)-1):\n",
    "        dt = ts[i+1] - ts[i]\n",
    "        x, v = xs[-1], vs[-1]\n",
    "        kx1 = dt*(v)\n",
    "        kv1 = dt*(f(x))\n",
    "        kx2 = dt*(v+kv1/2)\n",
    "        kv2 = dt*(f(x+kx1/2))\n",
    "        kx3 = dt*(v+kv2/2)\n",
    "        kv3 = dt*(f(x+kx2/2))\n",
    "        kx4 = dt*(v+kv3)\n",
    "        kv4 = dt*(f(x+kx3))\n",
    "        x1 = x + (kx1+2*kx2+2*kx3+kx4)/6\n",
    "        v1 = v + (kv1+2*kv2+2*kv3+kv4)/6\n",
    "        xs.append(x1)\n",
    "        vs.append(v1)\n",
    "    \n",
    "    return xs, vs"
   ]
  },
  {
   "cell_type": "code",
   "execution_count": null,
   "metadata": {},
   "outputs": [],
   "source": [
    "x0, v0 = 1, 0\n",
    "t0, t1 = 0, 1000*np.pi\n",
    "n = 10001"
   ]
  },
  {
   "cell_type": "markdown",
   "metadata": {},
   "source": [
    "Метод Эйлера улетел, РК4 тоже исподволь съезжает.\n",
    "А Верле, хотя и даёт ошибку больше, чем РК4, сидит себе на фазовом круге и сидит! "
   ]
  },
  {
   "cell_type": "code",
   "execution_count": null,
   "metadata": {},
   "outputs": [],
   "source": [
    "plt.figure()\n",
    "\n",
    "# reference line\n",
    "ts = np.linspace(0, 2*np.pi, 101)\n",
    "plt.plot(np.cos(ts), np.sin(ts), 'k:')\n",
    "\n",
    "# solvers\n",
    "ts = np.linspace(t0, t1, n)\n",
    "for method in ['euler', 'rk4', 'verlet']:\n",
    "    xs, vs = locals()[method](x0, v0, ts)\n",
    "    plt.plot(xs, vs, '.-', label=method)\n",
    "plt.legend()\n",
    "plt.axis([-2, 2, -2, 2])\n",
    "plt.suptitle('фазовый портрет')\n",
    "pass"
   ]
  },
  {
   "cell_type": "code",
   "execution_count": null,
   "metadata": {},
   "outputs": [],
   "source": [
    "plt.figure()\n",
    "\n",
    "ts = np.linspace(t0, t1, n)\n",
    "for method in ['euler', 'rk4', 'verlet']:\n",
    "    xs, vs = locals()[method](x0, v0, ts)\n",
    "    plt.plot(ts, -np.log10(np.abs(np.array(xs) - np.cos(ts))), '.-', label=method)\n",
    "#     plt.plot(ts, -np.log10(np.abs(np.array(vs) + np.sin(ts))), '.-', label=method)\n",
    "plt.legend()\n",
    "plt.suptitle('погрешность')\n",
    "pass"
   ]
  },
  {
   "cell_type": "code",
   "execution_count": null,
   "metadata": {},
   "outputs": [],
   "source": [
    "plt.figure()\n",
    "\n",
    "ts = np.linspace(t0, t1, n)\n",
    "plt.plot(ts, np.cos(ts), 'k-', label='exact')\n",
    "for method in ['euler', 'rk4', 'verlet']:\n",
    "    xs, vs = locals()[method](x0, v0, ts)\n",
    "    plt.plot(ts, xs, '.:', label=method)\n",
    "plt.legend()\n",
    "plt.axis([t0, t1, -2, 2])\n",
    "plt.suptitle('траектория')\n",
    "pass"
   ]
  }
 ],
 "metadata": {
  "kernelspec": {
   "display_name": "Python 3",
   "language": "python",
   "name": "python3"
  },
  "language_info": {
   "codemirror_mode": {
    "name": "ipython",
    "version": 3
   },
   "file_extension": ".py",
   "mimetype": "text/x-python",
   "name": "python",
   "nbconvert_exporter": "python",
   "pygments_lexer": "ipython3",
   "version": "3.7.4"
  }
 },
 "nbformat": 4,
 "nbformat_minor": 2
}
