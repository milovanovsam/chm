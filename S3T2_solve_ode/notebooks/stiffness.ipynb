{
 "cells": [
  {
   "cell_type": "markdown",
   "metadata": {},
   "source": [
    "Этот пример показывает, как от параметра mu зависит то, какие методы будут плохо работать:\n",
    "* mu = 0 - неявные\n",
    "* mu >> 1 - явные"
   ]
  },
  {
   "cell_type": "code",
   "execution_count": null,
   "metadata": {},
   "outputs": [],
   "source": [
    "import numpy as np\n",
    "from scipy.integrate import solve_ivp\n",
    "%matplotlib notebook\n",
    "import matplotlib.pyplot as plt"
   ]
  },
  {
   "cell_type": "markdown",
   "metadata": {},
   "source": [
    "Осциллятор Ван дер Поля, mu - параметр нелинейности затухания. При mu=0 это простейшая колебательная система."
   ]
  },
  {
   "cell_type": "code",
   "execution_count": null,
   "metadata": {},
   "outputs": [],
   "source": [
    "def vdp(t, y, mu):\n",
    "    return [\n",
    "        y[1],\n",
    "        mu*(1 - y[0]**2) * y[1] - y[0],\n",
    "    ]"
   ]
  },
  {
   "cell_type": "markdown",
   "metadata": {},
   "source": [
    "Прогоним все методы, реализованные в SciPy, на этой задаче."
   ]
  },
  {
   "cell_type": "code",
   "execution_count": null,
   "metadata": {},
   "outputs": [],
   "source": [
    "mu = 0 # 1, 10, 100, 1000\n",
    "y0 = [2, 0]\n",
    "t_span = [0, 2000]\n",
    "methods = [\n",
    "    'RK45', \n",
    "    'RK23', \n",
    "    'DOP853', \n",
    "    'Radau', \n",
    "    'BDF', \n",
    "    'LSODA'\n",
    "]\n",
    "\n",
    "plt.figure()\n",
    "for method in methods:\n",
    "    res = solve_ivp(vdp, y0=y0, t_span=t_span, method=method, args=[mu])\n",
    "    print(f'{method:8}: {res.nfev:8} fevals, {len(res.t)-1:8} steps. {res.message}')\n",
    "    plt.plot(res.y[0], res.y[1], '.', label=method) # y(x), фазовое пространство\n",
    "#     plt.plot(res.t, res.y[0], '.:', label=method) # x(t)\n",
    "    \n",
    "plt.legend()\n",
    "plt.suptitle(f'Van der Pol, mu={mu}')\n",
    "pass"
   ]
  }
 ],
 "metadata": {
  "kernelspec": {
   "display_name": "Python 3",
   "language": "python",
   "name": "python3"
  },
  "language_info": {
   "codemirror_mode": {
    "name": "ipython",
    "version": 3
   },
   "file_extension": ".py",
   "mimetype": "text/x-python",
   "name": "python",
   "nbconvert_exporter": "python",
   "pygments_lexer": "ipython3",
   "version": "3.7.4"
  }
 },
 "nbformat": 4,
 "nbformat_minor": 2
}
