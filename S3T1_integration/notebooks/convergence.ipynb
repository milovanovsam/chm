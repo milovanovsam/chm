{
 "cells": [
  {
   "cell_type": "code",
   "execution_count": null,
   "metadata": {},
   "outputs": [],
   "source": [
    "import numpy as np\n",
    "%matplotlib notebook\n",
    "import matplotlib.pyplot as plt\n",
    "import scipy.signal as ss"
   ]
  },
  {
   "cell_type": "code",
   "execution_count": null,
   "metadata": {},
   "outputs": [],
   "source": [
    "# М-К (для монотонных функций)\n",
    "def mc(f, x, n):\n",
    "    x0, x1 = x\n",
    "    y0, y1 = 0, max(f(x0), f(x1))\n",
    "    xs = np.random.rand(n) * (x1 - x0) + x0\n",
    "    ys = np.random.rand(n) * (y1 - y0) + y0\n",
    "    inside = f(xs) > ys\n",
    "    m = sum(inside)\n",
    "    s = (m / n) * (y1 - y0) * (x1 - x0)\n",
    "    return s\n",
    "\n",
    "# метод прямоугольников (левых)\n",
    "def quad_r1(f, x, n):\n",
    "    h = (x[1] - x[0]) / n\n",
    "    xs = np.linspace(x[0], x[1], n+1)[:-1]\n",
    "    fs = f(xs)\n",
    "    return np.sum(fs * h)\n",
    "\n",
    "# метод прямоугольников (средних)\n",
    "def quad_r2(f, x, n):\n",
    "    h = (x[1] - x[0]) / n\n",
    "    xs = np.linspace(x[0], x[1], n+1)[:-1] + h/2\n",
    "    fs = f(xs)\n",
    "    return np.sum(fs * h)\n",
    "\n",
    "# метод трапеций\n",
    "def quad_t(f, x, n):\n",
    "    h = (x[1] - x[0]) / n\n",
    "    xs = np.linspace(x[0], x[1], n+1)\n",
    "    fs = f(xs)\n",
    "    return np.sum(fs[1:-1] * h) + (fs[0] + fs[-1]) / 2 * h\n",
    "\n",
    "# метод Симпсона\n",
    "def quad_s(f, x, n):\n",
    "    h = (x[1] - x[0]) / n\n",
    "    xs = np.linspace(x[0], x[1], n+1)\n",
    "    xs_m = xs[:-1] + h/2\n",
    "    fs = f(xs)\n",
    "    fs_m = f(xs_m)\n",
    "    return (np.sum(fs[:-1]) + 4*np.sum(fs_m) + np.sum(fs[1:])) * h /6"
   ]
  },
  {
   "cell_type": "markdown",
   "metadata": {},
   "source": [
    "Прогоняем все методы и смотрим на соотношение точности и кол-ва вычислений"
   ]
  },
  {
   "cell_type": "code",
   "execution_count": null,
   "metadata": {},
   "outputs": [],
   "source": [
    "f = lambda x : np.exp(x)\n",
    "x = [0, 1]\n",
    "y0 = np.exp(1) - 1\n",
    "\n",
    "ns = 2 ** np.arange(1, 10)\n",
    "xs = np.log10(ns)\n",
    "\n",
    "colors = 'rgbcmyk'\n",
    "plt.figure()\n",
    "for i, meth in enumerate([mc, quad_r1, quad_r2, quad_t, quad_s]):\n",
    "    ys = -np.log10(np.abs([y0 - meth(f, x, n) for n in ns]))\n",
    "    k = np.polyfit(xs, ys, 1)\n",
    "    \n",
    "    # погрешность\n",
    "    plt.plot(xs, ys, f'{colors[i]}.', label=f'[{i}] conv={k[0]:.2f}')\n",
    "\n",
    "    # линейная аппроксимация\n",
    "    # угол наклона - это оценка скорости сходимости\n",
    "    plt.plot(xs, ys - ss.detrend(ys), f'{colors[i]}:')\n",
    "    \n",
    "l = plt.legend()"
   ]
  }
 ],
 "metadata": {
  "kernelspec": {
   "display_name": "Python 3",
   "language": "python",
   "name": "python3"
  },
  "language_info": {
   "codemirror_mode": {
    "name": "ipython",
    "version": 3
   },
   "file_extension": ".py",
   "mimetype": "text/x-python",
   "name": "python",
   "nbconvert_exporter": "python",
   "pygments_lexer": "ipython3",
   "version": "3.7.4"
  }
 },
 "nbformat": 4,
 "nbformat_minor": 2
}
