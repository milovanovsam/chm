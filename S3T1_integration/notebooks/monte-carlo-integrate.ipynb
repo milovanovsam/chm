{
 "cells": [
  {
   "cell_type": "code",
   "execution_count": null,
   "metadata": {},
   "outputs": [],
   "source": [
    "import numpy as np\n",
    "%matplotlib notebook\n",
    "import matplotlib.pyplot as plt"
   ]
  },
  {
   "cell_type": "markdown",
   "metadata": {},
   "source": [
    "Интегрируем, разбрасывая точки (x, y) случайным образом n раз в прямоугольнике (x0, x1) X (y0, y1). Если f(x) > y, точка (x, y) лежит под графиком / внутри кривой."
   ]
  },
  {
   "cell_type": "code",
   "execution_count": null,
   "metadata": {},
   "outputs": [],
   "source": [
    "def mc_integrate(f, x, y, n):\n",
    "    x0, x1 = x\n",
    "    y0, y1 = y\n",
    "    xs = np.random.rand(n) * (x1 - x0) + x0\n",
    "    ys = np.random.rand(n) * (y1 - y0) + y0\n",
    "    inside = f(xs, ys)\n",
    "    m = sum(inside)\n",
    "    s = (m / n) * (y1 - y0) * (x1 - x0)    \n",
    "    return s, xs, ys, inside"
   ]
  },
  {
   "cell_type": "code",
   "execution_count": null,
   "metadata": {},
   "outputs": [],
   "source": [
    "sin = lambda x, y : (np.sin(x) - y) >= 0\n",
    "# circ = lambda x, y : 1 - (x**2 + y**2) >= 0\n",
    "\n",
    "s, xs, ys, inside = mc_integrate(sin, (0, np.pi), (0, 1.2), n=1000)\n",
    "# s, xs, ys, inside = mc_integrate(circ, (-1.2, 1.2), (-1.2, 1.2), n=1000)\n",
    "outside = ~inside\n",
    "\n",
    "print(f'{s:.3f}')"
   ]
  },
  {
   "cell_type": "markdown",
   "metadata": {},
   "source": [
    "Рисуем, что попало под график / внутрь кривой"
   ]
  },
  {
   "cell_type": "code",
   "execution_count": null,
   "metadata": {},
   "outputs": [],
   "source": [
    "plt.figure()\n",
    "plt.plot(xs[inside], ys[inside], 'k.')\n",
    "plt.plot(xs[outside], ys[outside], 'm.')\n",
    "pass"
   ]
  }
 ],
 "metadata": {
  "kernelspec": {
   "display_name": "Python 3",
   "language": "python",
   "name": "python3"
  },
  "language_info": {
   "codemirror_mode": {
    "name": "ipython",
    "version": 3
   },
   "file_extension": ".py",
   "mimetype": "text/x-python",
   "name": "python",
   "nbconvert_exporter": "python",
   "pygments_lexer": "ipython3",
   "version": "3.7.4"
  }
 },
 "nbformat": 4,
 "nbformat_minor": 2
}
