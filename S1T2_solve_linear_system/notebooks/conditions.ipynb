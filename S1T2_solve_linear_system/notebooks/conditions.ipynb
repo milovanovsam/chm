{
 "cells": [
  {
   "cell_type": "code",
   "execution_count": null,
   "metadata": {},
   "outputs": [],
   "source": [
    "import numpy as np\n",
    "import numpy.linalg as la\n",
    "%matplotlib notebook\n",
    "import matplotlib.pyplot as plt\n",
    "import tqdm"
   ]
  },
  {
   "cell_type": "markdown",
   "metadata": {},
   "source": [
    "Проверим, как обусловленность матрицы **A** влияет на вычисление **A*b=c**.\n",
    "\n",
    "Сначала посмотрим, как она обусловлена и какие у неё сингулярные числа.\n",
    "\n",
    "Кстати, поскольку обратная матрица имеет такое же число обусловленности, приводимые ниже эффекты появятся и при решении СЛАУ **A*x=b**."
   ]
  },
  {
   "cell_type": "code",
   "execution_count": null,
   "metadata": {},
   "outputs": [],
   "source": [
    "A = np.array([\n",
    "    [1, 1],\n",
    "    [0, 1],\n",
    "], dtype='float')\n",
    "A_inv = np.linalg.pinv(A)\n",
    "cond = np.linalg.cond(A)\n",
    "cond_inv = np.linalg.cond(A_inv)\n",
    "\n",
    "U, s, V = np.linalg.svd(A)\n",
    "print(f'singular values: {s}')\n",
    "print(f's[0]/s[1] = {s[0]/s[1]:.5f}')\n",
    "print(f'cond A: {cond:.5f}')\n",
    "print(f'cond A_inv: {cond_inv:.5f}')"
   ]
  },
  {
   "cell_type": "code",
   "execution_count": null,
   "metadata": {},
   "outputs": [],
   "source": [
    "def plot1(xs, *args, **kwargs):\n",
    "    plt.plot([x[0] for x in xs],\n",
    "             [x[1] for x in xs],\n",
    "             *args, **kwargs)\n",
    "    \n",
    "def plot2(x1s, x2s, *args, **kwargs):\n",
    "    for x1, x2 in zip(x1s, x2s):\n",
    "        plt.plot([x1[0], x2[0]],\n",
    "                 [x1[1], x2[1]],\n",
    "                 *args, **kwargs)"
   ]
  },
  {
   "cell_type": "markdown",
   "metadata": {},
   "source": [
    "Теперь применим **A** к единичному кругу."
   ]
  },
  {
   "cell_type": "code",
   "execution_count": null,
   "metadata": {},
   "outputs": [],
   "source": [
    "n = 100\n",
    "ts = np.linspace(0, 2*np.pi, n)\n",
    "bs = [np.array([np.sin(t), np.cos(t)]) for t in ts]\n",
    "cs = [A @ [np.sin(t), np.cos(t)] for t in ts]\n",
    "\n",
    "plt.figure()\n",
    "plot1(cs, '.-', color='#00cc00', label='c=A*b')\n",
    "plot1(bs, '.-', color='#0000cc', label='b')\n",
    "plot2(bs, cs, 'k:')\n",
    "plt.legend();"
   ]
  },
  {
   "cell_type": "markdown",
   "metadata": {},
   "source": [
    "Посмотрим, куда переходят окрестности конкретных точек на круге."
   ]
  },
  {
   "cell_type": "code",
   "execution_count": null,
   "metadata": {},
   "outputs": [],
   "source": [
    "plt.figure()\n",
    "n = 30\n",
    "ts = np.linspace(0, 2*np.pi, n)\n",
    "bs = [np.array([np.sin(t), np.cos(t)]) for t in ts]\n",
    "cs = [A @ [np.sin(t), np.cos(t)] for t in ts]\n",
    "\n",
    "plot1(cs, '.-', color='#00cc00', label='c=A*b')\n",
    "plot1(bs, '.-', color='#0000cc', label='b')\n",
    "plot2(bs, cs, 'k:')\n",
    "plt.legend();\n",
    "\n",
    "m = 16\n",
    "eps = 5e-2\n",
    "t1s = np.linspace(0, 2*np.pi, m)\n",
    "dbs = [[eps*np.sin(t), eps*np.cos(t)] for t in t1s]\n",
    "for i in range(n):\n",
    "    b = bs[i]\n",
    "    c = cs[i]\n",
    "    b1s = [[b[0]+db[0], b[1]+db[1]] for db in dbs]\n",
    "    c1s = [A @ b1 for b1 in b1s]\n",
    "    \n",
    "    plot1(b1s, '-', color='#0000ff')\n",
    "    plot1(c1s, '-', color='#00ff00')\n",
    "\n",
    "plt.legend();"
   ]
  },
  {
   "cell_type": "markdown",
   "metadata": {},
   "source": [
    "Найдём точки, в которых относительное изменение **b** приводит к наибольшему относительному изменению **c**.\n",
    "\n",
    "Убеждаемся, что верхняя оценка этого отношения и есть число обусловленности."
   ]
  },
  {
   "cell_type": "code",
   "execution_count": null,
   "metadata": {},
   "outputs": [],
   "source": [
    "plt.figure()\n",
    "n = 65\n",
    "ts = np.linspace(0, 2*np.pi, n)\n",
    "bs = [np.array([np.sin(t), np.cos(t)]) for t in ts]\n",
    "cs = [A @ [np.sin(t), np.cos(t)] for t in ts]\n",
    "\n",
    "plot1(cs, '.-', color='#00cc00', label='c=A*b')\n",
    "plot1(bs, '.-', color='#0000cc', label='b')\n",
    "\n",
    "m = 33\n",
    "eps = 5e-2\n",
    "t1s = np.linspace(0, 2*np.pi, m)\n",
    "dbs = [[eps*np.sin(t), eps*np.cos(t)] for t in t1s]\n",
    "rels = []\n",
    "for i in range(n):\n",
    "    b = bs[i]\n",
    "    c = cs[i]\n",
    "    b1s = [[b[0]+db[0], b[1]+db[1]] for db in dbs]\n",
    "    c1s = [A @ b1 for b1 in b1s]\n",
    "    \n",
    "    for j in range(m):\n",
    "        b1 = b1s[j]\n",
    "        c1 = c1s[j]\n",
    "        rel_b = np.linalg.norm(b1 - b) / np.linalg.norm(b)\n",
    "        rel_c = np.linalg.norm(c1 - c) / np.linalg.norm(c)\n",
    "        rel = rel_c / rel_b\n",
    "        rels.append(rel)\n",
    "        if 1.01 < rel > 0.90*cond:\n",
    "            plot1(b1s, '-', color='#0000ff')\n",
    "            plot1(c1s, '-', color='#00ff00')\n",
    "            plt.plot([b1[0], c1[0]],\n",
    "                     [b1[1], c1[1]],\n",
    "                     ':', color='#ff0000')\n",
    "plt.legend();\n",
    "\n",
    "print(f'cond = {cond:.3f}, max (|dc|/|c|) / (|db|/|b|): {np.max(rels):.3f}')"
   ]
  },
  {
   "cell_type": "markdown",
   "metadata": {},
   "source": [
    "Повторим всё то же, но для другой матрицы"
   ]
  },
  {
   "cell_type": "code",
   "execution_count": null,
   "metadata": {},
   "outputs": [],
   "source": [
    "A = np.array([\n",
    "    [2.0, 1],\n",
    "    [1.5, 1],\n",
    "], dtype='float')\n",
    "A_inv = np.linalg.pinv(A)\n",
    "cond = np.linalg.cond(A)\n",
    "\n",
    "plt.figure()\n",
    "n = 65\n",
    "ts = np.linspace(0, 2*np.pi, n)\n",
    "bs = [np.array([np.sin(t), np.cos(t)]) for t in ts]\n",
    "cs = [A @ [np.sin(t), np.cos(t)] for t in ts]\n",
    "\n",
    "plot1(cs, '.-', color='#00cc00', label='c=A*b')\n",
    "plot1(bs, '.-', color='#0000cc', label='b')\n",
    "plot2(bs, cs, 'k:')\n",
    "\n",
    "m = 33\n",
    "eps = 5e-2\n",
    "t1s = np.linspace(0, 2*np.pi, m)\n",
    "dbs = [[eps*np.sin(t), eps*np.cos(t)] for t in t1s]\n",
    "rels = []\n",
    "for i in range(n):\n",
    "    b = bs[i]\n",
    "    c = cs[i]\n",
    "    b1s = [[b[0]+db[0], b[1]+db[1]] for db in dbs]\n",
    "    c1s = [A @ b1 for b1 in b1s]\n",
    "    \n",
    "    for j in range(m):\n",
    "        b1 = b1s[j]\n",
    "        c1 = c1s[j]\n",
    "        rel_b = np.linalg.norm(b1 - b) / np.linalg.norm(b)\n",
    "        rel_c = np.linalg.norm(c1 - c) / np.linalg.norm(c)\n",
    "        rel = rel_c / rel_b\n",
    "        rels.append(rel)\n",
    "        if 1.01 < rel > 0.90*cond:\n",
    "            plot1(b1s, '-', color='#0000ff')\n",
    "            plot1(c1s, '-', color='#00ff00')\n",
    "            plt.plot([b1[0], c1[0]],\n",
    "                     [b1[1], c1[1]],\n",
    "                     ':', color='#ff0000')\n",
    "plt.legend();\n",
    "\n",
    "print(f'cond = {cond:.3f}, max (|dc|/|c|) / (|db|/|b|): {np.max(rels):.3f}')"
   ]
  },
  {
   "cell_type": "markdown",
   "metadata": {},
   "source": [
    "**Вывод**: сильнее всего пострадают от неустранимой погрешности области, отображающиеся близко к оси максимального сжатия.\n",
    "\n",
    "При этом максимальные векторы погрешности будут направлены вдоль оси максимального растяжения.\n",
    "\n",
    "Теперь проверим для хорошо обусловленной матрицы."
   ]
  },
  {
   "cell_type": "code",
   "execution_count": null,
   "metadata": {},
   "outputs": [],
   "source": [
    "A = np.array([\n",
    "    [2, 2],\n",
    "    [-2, 2],\n",
    "], dtype='float')\n",
    "A_inv = np.linalg.pinv(A)\n",
    "cond = np.linalg.cond(A)\n",
    "\n",
    "plt.figure()\n",
    "n = 65\n",
    "ts = np.linspace(0, 2*np.pi, n)\n",
    "bs = [np.array([np.sin(t), np.cos(t)]) for t in ts]\n",
    "cs = [A @ [np.sin(t), np.cos(t)] for t in ts]\n",
    "\n",
    "plot1(cs, '.-', color='#00cc00', label='c=A*b')\n",
    "plot1(bs, '.-', color='#0000cc', label='b')\n",
    "plot2(bs, cs, 'k:')\n",
    "\n",
    "m = 33\n",
    "eps = 5e-2\n",
    "t1s = np.linspace(0, 2*np.pi, m)\n",
    "dbs = [[eps*np.sin(t), eps*np.cos(t)] for t in t1s]\n",
    "rels = []\n",
    "for i in range(n):\n",
    "    b = bs[i]\n",
    "    c = cs[i]\n",
    "    b1s = [[b[0]+db[0], b[1]+db[1]] for db in dbs]\n",
    "    c1s = [A @ b1 for b1 in b1s]\n",
    "    \n",
    "    for j in range(m):\n",
    "        b1 = b1s[j]\n",
    "        c1 = c1s[j]\n",
    "        rel_b = np.linalg.norm(b1 - b) / np.linalg.norm(b)\n",
    "        rel_c = np.linalg.norm(c1 - c) / np.linalg.norm(c)\n",
    "        rel = rel_c / rel_b\n",
    "        rels.append(rel)\n",
    "        if 1.01 < rel > 0.90*cond:\n",
    "            plot1(b1s, '-', color='#0000ff')\n",
    "            plot1(c1s, '-', color='#00ff00')\n",
    "            plt.plot([b1[0], c1[0]],\n",
    "                     [b1[1], c1[1]],\n",
    "                     ':', color='#ff0000')\n",
    "plt.legend();\n",
    "\n",
    "print(f'cond = {cond:.3f}, max (|dc|/|c|) / (|db|/|b|): {np.max(rels):.3f}')"
   ]
  },
  {
   "cell_type": "markdown",
   "metadata": {},
   "source": [
    "**Вывод**: когда все сингулярные числа равны (одинаковое растяжение по всем осям), никаких проблем с обусловленностью."
   ]
  }
 ],
 "metadata": {
  "kernelspec": {
   "display_name": "Python 3",
   "language": "python",
   "name": "python3"
  },
  "language_info": {
   "codemirror_mode": {
    "name": "ipython",
    "version": 3
   },
   "file_extension": ".py",
   "mimetype": "text/x-python",
   "name": "python",
   "nbconvert_exporter": "python",
   "pygments_lexer": "ipython3",
   "version": "3.7.6"
  }
 },
 "nbformat": 4,
 "nbformat_minor": 4
}
