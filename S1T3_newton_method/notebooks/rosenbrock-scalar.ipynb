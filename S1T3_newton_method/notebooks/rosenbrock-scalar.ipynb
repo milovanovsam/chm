{
 "cells": [
  {
   "cell_type": "code",
   "execution_count": null,
   "metadata": {},
   "outputs": [],
   "source": [
    "import numpy as np\n",
    "%matplotlib notebook\n",
    "import matplotlib.pyplot as plt\n",
    "from mpl_toolkits.mplot3d import Axes3D\n",
    "from scipy.optimize import minimize\n",
    "\n",
    "import sympy as sp\n",
    "from sympy.abc import x, y, a\n",
    "from sympy.utilities.lambdify import lambdify\n",
    "from sympy.vector import gradient\n",
    "from sympy import hessian"
   ]
  },
  {
   "cell_type": "markdown",
   "metadata": {},
   "source": [
    "Оптимизируем функцию Розенброка (https://ru.wikipedia.org/wiki/Функция_Розенброка). Сразу же найдём градиент и гессиан."
   ]
  },
  {
   "cell_type": "code",
   "execution_count": null,
   "metadata": {},
   "outputs": [],
   "source": [
    "N = 10\n",
    "\n",
    "F = (1 - x)**2 + (N*(y - x**2))**2\n",
    "\n",
    "df_sym = []\n",
    "for s in [x, y]:\n",
    "    dfds_sym = F.diff(s)\n",
    "    df_sym.append(lambdify((x, y), dfds_sym))\n",
    "hess_sym = hessian(F, (x, y))\n",
    "\n",
    "func = lambdify((x, y), F)\n",
    "grad = lambda xv, yv: np.array([_(xv, yv) for _ in df_sym], dtype='float64')\n",
    "hess = lambda xv, yv: np.array([_.subs({x:xv, y:yv}) for _ in hess_sym], dtype='float64').reshape((2,2))"
   ]
  },
  {
   "cell_type": "code",
   "execution_count": null,
   "metadata": {},
   "outputs": [],
   "source": [
    "def scalar_opt(f, x0, d):\n",
    "    diff = f.subs({x: x0[0] + a*d[0], y: x0[1] + a*d[1]}).diff()\n",
    "    diff = sp.simplify(diff)\n",
    "    roots = sp.solveset(diff)\n",
    "    m = np.inf\n",
    "    r = 0.\n",
    "    for s in roots:\n",
    "        if s.is_real:\n",
    "            fv = f.subs({x: x0[0] + s*d[0], y: x0[1] + s*d[1]})\n",
    "            if fv < m:\n",
    "                m = fv\n",
    "                r = s\n",
    "    return r"
   ]
  },
  {
   "cell_type": "markdown",
   "metadata": {},
   "source": [
    "Методы оптимизации ниже:\n",
    "* стохастический\n",
    "* градиентный (1-го порядка)\n",
    "* Ньютона (2-го порядка)\n",
    "* Левенберга-Марквардта (Ньютон с регуляризацией)\n",
    "\n",
    "Здесь метод Ньютона применяется в векторном виде к градиенту: мы ищем оптимум как ноль градиента"
   ]
  },
  {
   "cell_type": "code",
   "execution_count": null,
   "metadata": {},
   "outputs": [],
   "source": [
    "def opt_evolution(f, x0, y0, max_iter, eps):\n",
    "    npop = 50      # population size\n",
    "    sigma = 0.1    # noise standard deviation\n",
    "    alpha = 0.1  # learning rate\n",
    "    n = 2\n",
    "    N = np.random.randn(npop, n)\n",
    "    R = np.zeros(npop)\n",
    "    \n",
    "    fv = float(f.subs({x: x0, y: y0}))\n",
    "    xs, ys, zs = [x0], [y0], [fv]\n",
    "    \n",
    "    while np.abs(fv) > eps and len(xs) < max_iter:\n",
    "        for j in range(npop):\n",
    "            x1 = x0 + sigma*N[j]\n",
    "            R[j] = float(f.subs({x: x1[0], y: x1[1]}))\n",
    "        A = (R - np.mean(R)) / np.std(R)\n",
    "        dx = -alpha / (npop*sigma) * (N.T @ A)\n",
    "\n",
    "        x1, y1 = x0 + dx[0], y0 + dx[1]\n",
    "        fv = float(f.subs({x: x1, y: y1}))\n",
    "        xs.append(x1)\n",
    "        ys.append(y1)\n",
    "        zs.append(fv)\n",
    "        x0, y0 = x1, y1\n",
    "    return xs, ys, zs\n",
    "\n",
    "\n",
    "def opt_gradient(f, g, x0, y0, max_iter, eps):\n",
    "    fv = float(f.subs({x: x0, y: y0}))\n",
    "    gv = g(x0, y0)    \n",
    "    xs, ys, zs = [x0], [y0], [fv]\n",
    "\n",
    "    while np.abs(fv) > eps and len(xs) < max_iter:\n",
    "        gv = g(x0, y0)\n",
    "\n",
    "        alpha = scalar_opt(f, (x0, y0), gv)\n",
    "        dx = alpha*gv\n",
    "        \n",
    "        x1, y1 = x0 + dx[0], y0 + dx[1]\n",
    "        fv = float(f.subs({x: x1, y: y1}))\n",
    "        xs.append(x1)\n",
    "        ys.append(y1)\n",
    "        zs.append(fv)\n",
    "        x0, y0 = x1, y1\n",
    "    return xs, ys, zs\n",
    "\n",
    "\n",
    "def opt_newton(f, g, h, x0, y0, max_iter, eps):\n",
    "    fv = float(f.subs({x: x0, y: y0}))\n",
    "    gv = g(x0, y0)\n",
    "    hv = h(x0, y0)\n",
    "    xs, ys, zs = [x0], [y0], [fv]\n",
    "\n",
    "    while np.abs(fv) > eps and len(xs) < max_iter:\n",
    "        gv = g(x0, y0)\n",
    "        hv = h(x0, y0)\n",
    "        d = np.linalg.solve(-hv, gv)\n",
    "\n",
    "        alpha = scalar_opt(f, (x0, y0), d)\n",
    "        dx = alpha*d\n",
    "        \n",
    "        x1, y1 = x0 + dx[0], y0 + dx[1]\n",
    "        fv = float(f.subs({x: x1, y: y1}))\n",
    "        xs.append(x1)\n",
    "        ys.append(y1)\n",
    "        zs.append(fv)\n",
    "        x0, y0 = x1, y1\n",
    "    return xs, ys, zs\n",
    "\n",
    "\n",
    "# При lam=0 вырождается в метод Ньютона, при lam->inf - в градиентный\n",
    "def opt_levmarq(f, g, h, lam, x0, y0, max_iter, eps):\n",
    "    fv = float(f.subs({x: x0, y: y0}))\n",
    "    gv = g(x0, y0)\n",
    "    hv = h(x0, y0)\n",
    "    xs, ys, zs = [x0], [y0], [fv]\n",
    "\n",
    "    while np.abs(fv) > eps and len(xs) < max_iter:\n",
    "        gv = g(x0, y0)\n",
    "        hv = h(x0, y0)\n",
    "        d = np.linalg.solve(-(hv + lam*np.eye(*hv.shape)), gv)\n",
    "\n",
    "        alpha = scalar_opt(f, (x0, y0), d)\n",
    "        dx = alpha*d\n",
    "        \n",
    "        x1, y1 = x0 + dx[0], y0 + dx[1]\n",
    "        fv = float(f.subs({x: x1, y: y1}))\n",
    "        xs.append(x1)\n",
    "        ys.append(y1)\n",
    "        zs.append(fv)\n",
    "        x0, y0 = x1, y1\n",
    "    return xs, ys, zs"
   ]
  },
  {
   "cell_type": "code",
   "execution_count": null,
   "metadata": {
    "scrolled": true
   },
   "outputs": [],
   "source": [
    "results = [\n",
    "    opt_levmarq  (F, grad, hess, 5e-1, 9., 9., max_iter=100, eps=1e-3),\n",
    "    opt_newton   (F, grad, hess,       9., 9., max_iter=100, eps=1e-3),\n",
    "    opt_gradient (F, grad,             9., 9., max_iter=100, eps=1e-3),\n",
    "    opt_evolution(F,                   9., 9., max_iter=100, eps=1e-3),\n",
    "]"
   ]
  },
  {
   "cell_type": "code",
   "execution_count": null,
   "metadata": {},
   "outputs": [],
   "source": [
    "colors='rgbcmyk'\n",
    "labels=['levmarq', 'newt', 'grad', 'evol']"
   ]
  },
  {
   "cell_type": "code",
   "execution_count": null,
   "metadata": {},
   "outputs": [],
   "source": [
    "# вид сверху\n",
    "plt.figure()\n",
    "plt.plot(1, 1, 'kp')\n",
    "for i, res in enumerate(results):\n",
    "    plt.plot(res[0], res[1], f'{colors[i]}.:', label=labels[i])\n",
    "plt.legend()\n",
    "pass"
   ]
  },
  {
   "cell_type": "code",
   "execution_count": null,
   "metadata": {},
   "outputs": [],
   "source": [
    "# 3d\n",
    "fig = plt.figure()\n",
    "ax = fig.add_subplot(111, projection='3d')\n",
    "xs = np.linspace(-10, 10, 21)\n",
    "ys = np.linspace(0, 80, 21)\n",
    "X, Y = np.meshgrid(xs, ys)\n",
    "Z = X*0\n",
    "for i, xv in enumerate(xs):\n",
    "    for j, yv in enumerate(ys):\n",
    "        Z[j,i] = func(xv, yv)\n",
    "        \n",
    "ax.plot_wireframe(X,Y,Z)\n",
    "ax.plot([1],[1],[0],'mo')  # оптимум\n",
    "\n",
    "# наш путь\n",
    "for i, res in enumerate(results):\n",
    "    ax.plot(res[0], res[1], res[2], f'{colors[i]}:.', label=labels[i])\n",
    "plt.legend()\n",
    "plt.xlabel('x')\n",
    "plt.ylabel('y')\n",
    "pass"
   ]
  },
  {
   "cell_type": "code",
   "execution_count": null,
   "metadata": {},
   "outputs": [],
   "source": [
    "# acc\n",
    "plt.figure()\n",
    "for i, res in enumerate(results):\n",
    "    plt.plot(np.log10(res[2]), f'{colors[i]}.:', label=labels[i])\n",
    "plt.legend()\n",
    "pass"
   ]
  },
  {
   "attachments": {
    "narrowvalleymomentum.png": {
     "image/png": "[encoded data removed]"
    }
   },
   "cell_type": "markdown",
   "metadata": {},
   "source": [
    "А так можно ускорить сходимость (например, для градиентного метода)\n",
    "\n",
    "![narrowvalleymomentum.png](attachment:narrowvalleymomentum.png)"
   ]
  }
 ],
 "metadata": {
  "kernelspec": {
   "display_name": "Python 3",
   "language": "python",
   "name": "python3"
  },
  "language_info": {
   "codemirror_mode": {
    "name": "ipython",
    "version": 3
   },
   "file_extension": ".py",
   "mimetype": "text/x-python",
   "name": "python",
   "nbconvert_exporter": "python",
   "pygments_lexer": "ipython3",
   "version": "3.7.4"
  }
 },
 "nbformat": 4,
 "nbformat_minor": 2
}
